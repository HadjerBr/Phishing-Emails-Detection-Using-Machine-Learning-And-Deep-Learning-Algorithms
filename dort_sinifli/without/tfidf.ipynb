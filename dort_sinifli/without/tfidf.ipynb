{
 "cells": [
  {
   "cell_type": "code",
   "execution_count": 1,
   "metadata": {},
   "outputs": [
    {
     "name": "stdout",
     "output_type": "stream",
     "text": [
      "        aa  aba  abandon  abandoned  abased  abbas  abbreviation  abdal  \\\n",
      "0      0.0  0.0      0.0        0.0     0.0    0.0           0.0    0.0   \n",
      "1      0.0  0.0      0.0        0.0     0.0    0.0           0.0    0.0   \n",
      "2      0.0  0.0      0.0        0.0     0.0    0.0           0.0    0.0   \n",
      "3      0.0  0.0      0.0        0.0     0.0    0.0           0.0    0.0   \n",
      "4      0.0  0.0      0.0        0.0     0.0    0.0           0.0    0.0   \n",
      "...    ...  ...      ...        ...     ...    ...           ...    ...   \n",
      "15995  0.0  0.0      0.0        0.0     0.0    0.0           0.0    0.0   \n",
      "15996  0.0  0.0      0.0        0.0     0.0    0.0           0.0    0.0   \n",
      "15997  0.0  0.0      0.0        0.0     0.0    0.0           0.0    0.0   \n",
      "15998  0.0  0.0      0.0        0.0     0.0    0.0           0.0    0.0   \n",
      "15999  0.0  0.0      0.0        0.0     0.0    0.0           0.0    0.0   \n",
      "\n",
      "       abduction  abey  ...  zing  zip  zipper   zo  zombie  zone  zoned  \\\n",
      "0            0.0   0.0  ...   0.0  0.0     0.0  0.0     0.0   0.0    0.0   \n",
      "1            0.0   0.0  ...   0.0  0.0     0.0  0.0     0.0   0.0    0.0   \n",
      "2            0.0   0.0  ...   0.0  0.0     0.0  0.0     0.0   0.0    0.0   \n",
      "3            0.0   0.0  ...   0.0  0.0     0.0  0.0     0.0   0.0    0.0   \n",
      "4            0.0   0.0  ...   0.0  0.0     0.0  0.0     0.0   0.0    0.0   \n",
      "...          ...   ...  ...   ...  ...     ...  ...     ...   ...    ...   \n",
      "15995        0.0   0.0  ...   0.0  0.0     0.0  0.0     0.0   0.0    0.0   \n",
      "15996        0.0   0.0  ...   0.0  0.0     0.0  0.0     0.0   0.0    0.0   \n",
      "15997        0.0   0.0  ...   0.0  0.0     0.0  0.0     0.0   0.0    0.0   \n",
      "15998        0.0   0.0  ...   0.0  0.0     0.0  0.0     0.0   0.0    0.0   \n",
      "15999        0.0   0.0  ...   0.0  0.0     0.0  0.0     0.0   0.0    0.0   \n",
      "\n",
      "       zoning  zoo  zoom  \n",
      "0         0.0  0.0   0.0  \n",
      "1         0.0  0.0   0.0  \n",
      "2         0.0  0.0   0.0  \n",
      "3         0.0  0.0   0.0  \n",
      "4         0.0  0.0   0.0  \n",
      "...       ...  ...   ...  \n",
      "15995     0.0  0.0   0.0  \n",
      "15996     0.0  0.0   0.0  \n",
      "15997     0.0  0.0   0.0  \n",
      "15998     0.0  0.0   0.0  \n",
      "15999     0.0  0.0   0.0  \n",
      "\n",
      "[16000 rows x 9630 columns]\n"
     ]
    }
   ],
   "source": [
    "import pandas as pd\n",
    "from sklearn.feature_extraction.text import TfidfVectorizer\n",
    "\n",
    "# CSV dosyanızı yükleyin\n",
    "df = pd.read_csv('../data/lemmatized_and_misspelled_removed_SEFACED.csv', encoding='utf-8')\n",
    "\n",
    "# Korpusu (lemmatize edilmiş belgeler) çıkarın\n",
    "corpus = df['lemmatized_tokens']\n",
    "\n",
    "# Bir TfidfVectorizer oluşturun\n",
    "tfidf_vectorizer = TfidfVectorizer()\n",
    "\n",
    "# Korpusu TF-IDF seyrek matrise dönüştürün ve uydurun\n",
    "X_tfidf = tfidf_vectorizer.fit_transform(corpus)\n",
    "\n",
    "# TF-IDF matrisini bir DataFrame'e dönüştür\n",
    "df_tfidf = pd.DataFrame(X_tfidf.toarray(), columns=tfidf_vectorizer.get_feature_names_out())\n",
    "\n",
    "print(df_tfidf)\n"
   ]
  },
  {
   "cell_type": "code",
   "execution_count": 2,
   "metadata": {},
   "outputs": [],
   "source": [
    "from sklearn.model_selection import train_test_split\n",
    "\n",
    "# Korpusu (lemmatize edilmiş belgeler) ve hedef değişkeni çıkarın\n",
    "corpus = df['lemmatized_tokens']\n",
    "y = df['Class_Label']\n",
    "\n",
    "# Veri kümesini eğitim ve test setlerine ayırın\n",
    "X_train, X_test, y_train, y_test = train_test_split(df_tfidf, y, test_size=0.2, random_state=42)\n"
   ]
  },
  {
   "cell_type": "code",
   "execution_count": 2,
   "metadata": {},
   "outputs": [
    {
     "name": "stdout",
     "output_type": "stream",
     "text": [
      "Logistic Regression Classifier:\n",
      "Accuracy: 0.8775\n",
      "Precision: 0.8789020827092141\n",
      "Recall: 0.8775\n",
      "Sınıflandırma Raporu:\n",
      "              precision    recall  f1-score   support\n",
      "\n",
      "  Fraudulent       0.96      0.91      0.93       837\n",
      "  Harrasment       0.83      0.85      0.84       737\n",
      "      Normal       0.93      0.95      0.94       767\n",
      "  Suspicious       0.80      0.81      0.80       859\n",
      "\n",
      "    accuracy                           0.88      3200\n",
      "   macro avg       0.88      0.88      0.88      3200\n",
      "weighted avg       0.88      0.88      0.88      3200\n",
      "\n"
     ]
    }
   ],
   "source": [
    "# LR\n",
    "\n",
    "from sklearn.linear_model import LogisticRegression\n",
    "from sklearn.metrics import accuracy_score, precision_score, recall_score, classification_report\n",
    "\n",
    "\n",
    "\n",
    "\n",
    "# Logistic Regresyon modelini başlatın\n",
    "lr_model = LogisticRegression(max_iter=10000)\n",
    "\n",
    "# Logistic Regresyon modelini eğitin\n",
    "lr_model.fit(X_train, y_train)\n",
    "\n",
    "# Test seti üzerinde tahminler yapın\n",
    "lr_predictions = lr_model.predict(X_test)\n",
    "\n",
    "# Modeli değerlendirin\n",
    "\n",
    "lr_accuracy = accuracy_score(y_test, lr_predictions)\n",
    "lr_precision = precision_score(y_test, lr_predictions, average='weighted')\n",
    "lr_recall = recall_score(y_test, lr_predictions, average='weighted')\n",
    "\n",
    "print(\"Logistic Regression Classifier:\")\n",
    "print(f\"Accuracy: {lr_accuracy}\")\n",
    "print(f\"Precision: {lr_precision}\")\n",
    "print(f\"Recall: {lr_recall}\")\n",
    "print(\"Sınıflandırma Raporu:\")\n",
    "print(classification_report(y_test, lr_predictions))\n"
   ]
  },
  {
   "cell_type": "code",
   "execution_count": 3,
   "metadata": {},
   "outputs": [
    {
     "name": "stdout",
     "output_type": "stream",
     "text": [
      "Random Forest Classifier:\n",
      "Accuracy: 0.8740625\n",
      "Precision: 0.8756715507313997\n",
      "Recall: 0.8740625\n",
      "Sınıflandırma Raporu:\n",
      "              precision    recall  f1-score   support\n",
      "\n",
      "  Fraudulent       0.87      0.97      0.92       837\n",
      "  Harrasment       0.81      0.86      0.83       737\n",
      "      Normal       0.95      0.93      0.94       767\n",
      "  Suspicious       0.87      0.73      0.80       859\n",
      "\n",
      "    accuracy                           0.87      3200\n",
      "   macro avg       0.88      0.88      0.87      3200\n",
      "weighted avg       0.88      0.87      0.87      3200\n",
      "\n"
     ]
    }
   ],
   "source": [
    "# RF\n",
    "\n",
    "from sklearn.ensemble import RandomForestClassifier\n",
    "\n",
    "# Rastgele Orman modelini başlatın\n",
    "rf_model = RandomForestClassifier()\n",
    "\n",
    "# Rastgele Orman modelini eğitin\n",
    "rf_model.fit(X_train, y_train)\n",
    "\n",
    "# Test seti üzerinde tahminler yapın\n",
    "rf_predictions = rf_model.predict(X_test)\n",
    "\n",
    "# Modeli değerlendirin\n",
    "rf_accuracy = accuracy_score(y_test, rf_predictions)\n",
    "rf_precision = precision_score(y_test, rf_predictions, average='weighted')\n",
    "rf_recall = recall_score(y_test, rf_predictions, average='weighted')\n",
    "\n",
    "print(\"Random Forest Classifier:\")\n",
    "print(f\"Accuracy: {rf_accuracy}\")\n",
    "print(f\"Precision: {rf_precision}\")\n",
    "print(f\"Recall: {rf_recall}\")\n",
    "print(\"Sınıflandırma Raporu:\")\n",
    "print(classification_report(y_test, rf_predictions))\n"
   ]
  },
  {
   "cell_type": "code",
   "execution_count": 4,
   "metadata": {},
   "outputs": [
    {
     "name": "stdout",
     "output_type": "stream",
     "text": [
      "Naive Bayes Classifier:\n",
      "Accuracy: 0.8465625\n",
      "Precision: 0.8703527509999011\n",
      "Recall: 0.8465625\n",
      "Sınıflandırma Raporu:\n",
      "              precision    recall  f1-score   support\n",
      "\n",
      "  Fraudulent       0.97      0.90      0.93       837\n",
      "  Harrasment       0.67      0.93      0.78       737\n",
      "      Normal       0.91      0.95      0.93       767\n",
      "  Suspicious       0.92      0.64      0.75       859\n",
      "\n",
      "    accuracy                           0.85      3200\n",
      "   macro avg       0.86      0.85      0.85      3200\n",
      "weighted avg       0.87      0.85      0.85      3200\n",
      "\n"
     ]
    }
   ],
   "source": [
    "#NB\n",
    "\n",
    "from sklearn.naive_bayes import MultinomialNB\n",
    "\n",
    "# Çoklu Naive Bayes modelini başlatın\n",
    "nb_model = MultinomialNB()\n",
    "\n",
    "# Çoklu Naive Bayes modelini eğitin\n",
    "nb_model.fit(X_train, y_train)\n",
    "\n",
    "# Test seti üzerinde tahminler yapın\n",
    "nb_predictions = nb_model.predict(X_test)\n",
    "\n",
    "# Modeli değerlendirin\n",
    "nb_accuracy = accuracy_score(y_test, nb_predictions)\n",
    "nb_precision = precision_score(y_test, nb_predictions, average='weighted')\n",
    "nb_recall = recall_score(y_test, nb_predictions, average='weighted')\n",
    "\n",
    "print(\"Naive Bayes Classifier:\")\n",
    "print(f\"Accuracy: {nb_accuracy}\")\n",
    "print(f\"Precision: {nb_precision}\")\n",
    "print(f\"Recall: {nb_recall}\")\n",
    "print(\"Sınıflandırma Raporu:\")\n",
    "print(classification_report(y_test, nb_predictions))\n"
   ]
  },
  {
   "cell_type": "code",
   "execution_count": 4,
   "metadata": {},
   "outputs": [
    {
     "name": "stdout",
     "output_type": "stream",
     "text": [
      "Support Vector Machine Classifier:\n",
      "Accuracy: 0.888125\n",
      "Precision: 0.8884487021953597\n",
      "Recall: 0.888125\n",
      "Classification Report:\n",
      "              precision    recall  f1-score   support\n",
      "\n",
      "  Fraudulent       0.90      0.97      0.93       837\n",
      "  Harrasment       0.83      0.88      0.85       737\n",
      "      Normal       0.97      0.94      0.95       767\n",
      "  Suspicious       0.86      0.77      0.81       859\n",
      "\n",
      "    accuracy                           0.89      3200\n",
      "   macro avg       0.89      0.89      0.89      3200\n",
      "weighted avg       0.89      0.89      0.89      3200\n",
      "\n"
     ]
    }
   ],
   "source": [
    "# SVM\n",
    "\n",
    "from sklearn.svm import SVC\n",
    "from sklearn.metrics import accuracy_score\n",
    "from sklearn.metrics import precision_score, recall_score, classification_report\n",
    "\n",
    "# SVM modelini başlat\n",
    "svm_model = SVC()\n",
    "\n",
    "# SVM modelini eğit\n",
    "svm_model.fit(X_train, y_train)\n",
    "\n",
    "# Test seti üzerinde tahminler yap\n",
    "svm_predictions = svm_model.predict(X_test)\n",
    "\n",
    "# Modeli değerlendir\n",
    "\n",
    "svm_accuracy = accuracy_score(y_test, svm_predictions)\n",
    "svm_precision = precision_score(y_test, svm_predictions, average='weighted')\n",
    "svm_recall = recall_score(y_test, svm_predictions, average='weighted')\n",
    "\n",
    "print(\"Support Vector Machine Classifier:\")\n",
    "print(f\"Accuracy: {svm_accuracy}\")\n",
    "print(f\"Precision: {svm_precision}\")\n",
    "print(f\"Recall: {svm_recall}\")\n",
    "\n",
    "print(\"Classification Report:\")\n",
    "print(classification_report(y_test, svm_predictions))\n",
    "\n"
   ]
  }
 ],
 "metadata": {
  "interpreter": {
   "hash": "a06e30aee820ff8fe24fb428cece021c5cdfc4bd84062afc0eba853e87fef366"
  },
  "kernelspec": {
   "display_name": "Python 3.11.4 64-bit",
   "language": "python",
   "name": "python3"
  },
  "language_info": {
   "codemirror_mode": {
    "name": "ipython",
    "version": 3
   },
   "file_extension": ".py",
   "mimetype": "text/x-python",
   "name": "python",
   "nbconvert_exporter": "python",
   "pygments_lexer": "ipython3",
   "version": "3.10.4"
  },
  "orig_nbformat": 4
 },
 "nbformat": 4,
 "nbformat_minor": 2
}
