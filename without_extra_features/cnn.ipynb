{
 "cells": [
  {
   "cell_type": "code",
   "execution_count": 5,
   "metadata": {},
   "outputs": [
    {
     "name": "stdout",
     "output_type": "stream",
     "text": [
      "Epoch 1/10\n",
      "441/441 [==============================] - 22s 46ms/step - loss: 0.1335 - accuracy: 0.9384 - val_loss: 0.0320 - val_accuracy: 0.9895\n",
      "Epoch 2/10\n",
      "441/441 [==============================] - 19s 43ms/step - loss: 0.0152 - accuracy: 0.9954 - val_loss: 0.0321 - val_accuracy: 0.9889\n",
      "Epoch 3/10\n",
      "441/441 [==============================] - 22s 49ms/step - loss: 0.0088 - accuracy: 0.9979 - val_loss: 0.0389 - val_accuracy: 0.9892\n",
      "Epoch 4/10\n",
      "441/441 [==============================] - 20s 45ms/step - loss: 0.0070 - accuracy: 0.9982 - val_loss: 0.0420 - val_accuracy: 0.9901\n",
      "Epoch 5/10\n",
      "441/441 [==============================] - 21s 48ms/step - loss: 0.0069 - accuracy: 0.9982 - val_loss: 0.0456 - val_accuracy: 0.9912\n",
      "Epoch 6/10\n",
      "441/441 [==============================] - 22s 51ms/step - loss: 0.0057 - accuracy: 0.9984 - val_loss: 0.0571 - val_accuracy: 0.9901\n",
      "Epoch 7/10\n",
      "441/441 [==============================] - 22s 50ms/step - loss: 0.0062 - accuracy: 0.9984 - val_loss: 0.0521 - val_accuracy: 0.9895\n",
      "Epoch 8/10\n",
      "441/441 [==============================] - 21s 48ms/step - loss: 0.0058 - accuracy: 0.9984 - val_loss: 0.0566 - val_accuracy: 0.9901\n",
      "Epoch 9/10\n",
      "441/441 [==============================] - 21s 48ms/step - loss: 0.0057 - accuracy: 0.9984 - val_loss: 0.0582 - val_accuracy: 0.9901\n",
      "Epoch 10/10\n",
      "441/441 [==============================] - 21s 48ms/step - loss: 0.0061 - accuracy: 0.9985 - val_loss: 0.0653 - val_accuracy: 0.9895\n",
      "111/111 [==============================] - 1s 10ms/step - loss: 0.0653 - accuracy: 0.9895\n",
      "Test Loss: 0.06528538465499878, Test Accuracy: 0.9895124435424805\n",
      "111/111 [==============================] - 1s 9ms/step\n",
      "              precision    recall  f1-score   support\n",
      "\n",
      "           0       0.99      0.98      0.98      1041\n",
      "           1       0.99      1.00      0.99      2487\n",
      "\n",
      "    accuracy                           0.99      3528\n",
      "   macro avg       0.99      0.99      0.99      3528\n",
      "weighted avg       0.99      0.99      0.99      3528\n",
      "\n"
     ]
    }
   ],
   "source": [
    "import pandas as pd\n",
    "from sklearn.model_selection import train_test_split\n",
    "from keras.preprocessing.text import Tokenizer\n",
    "from tensorflow.keras.preprocessing.sequence import pad_sequences\n",
    "from keras.models import Sequential\n",
    "from keras.layers import Embedding, Conv1D, GlobalMaxPooling1D, Dense, Dropout\n",
    "from sklearn.preprocessing import LabelEncoder\n",
    "from sklearn.metrics import classification_report\n",
    "import numpy as np\n",
    "\n",
    "df = pd.read_csv('./data_without_extra_features/preprocessed_SEFACED.csv')\n",
    "\n",
    "df['cleaned_text'] = df['cleaned_text'].astype(str)\n",
    "X = df['cleaned_text']\n",
    "y = df['Class_Label']\n",
    "\n",
    "# Convert labels to numerical values\n",
    "label_encoder = LabelEncoder()\n",
    "y_encoded = label_encoder.fit_transform(y)\n",
    "\n",
    "# Tokenize the text\n",
    "max_words = 13000 \n",
    "tokenizer = Tokenizer(num_words=max_words)\n",
    "tokenizer.fit_on_texts(X)\n",
    "X_seq = tokenizer.texts_to_sequences(X)\n",
    "\n",
    "# Define maximum sequence length\n",
    "maxlen = 100\n",
    "\n",
    "# Pad sequences to the same length\n",
    "X_pad = pad_sequences(X_seq, maxlen=maxlen)\n",
    "\n",
    "# Split the data into training and testing sets\n",
    "X_train, X_test, y_train, y_test = train_test_split(X_pad, y_encoded, test_size=0.2, random_state=42)\n",
    "\n",
    "# Define CNN model\n",
    "embedding_dim = 100\n",
    "num_filters = 128\n",
    "kernel_size = 5\n",
    "\n",
    "model = Sequential()\n",
    "model.add(Embedding(input_dim=max_words, output_dim=embedding_dim, input_length=maxlen))\n",
    "model.add(Conv1D(filters=num_filters, kernel_size=kernel_size, activation='relu'))\n",
    "model.add(GlobalMaxPooling1D())\n",
    "model.add(Dense(64, activation='relu'))\n",
    "model.add(Dropout(0.5))\n",
    "model.add(Dense(1, activation='sigmoid'))\n",
    "\n",
    "# Compile the model\n",
    "model.compile(optimizer='adam', loss='binary_crossentropy', metrics=['accuracy'])\n",
    "\n",
    "# Train the model\n",
    "model.fit(X_train, y_train, epochs=10, batch_size=32, validation_data=(X_test, y_test))\n",
    "\n",
    "# Evaluate the model\n",
    "loss, accuracy = model.evaluate(X_test, y_test)\n",
    "print(f'Test Loss: {loss}, Test Accuracy: {accuracy}')\n",
    "\n",
    "# Save the trained model\n",
    "y_pred_prob = model.predict(X_test)\n",
    "y_pred = np.where(y_pred_prob > 0.5, 1, 0)\n",
    "\n",
    "print(classification_report(y_test, y_pred))\n"
   ]
  },
  {
   "cell_type": "code",
   "execution_count": 8,
   "metadata": {},
   "outputs": [
    {
     "name": "stdout",
     "output_type": "stream",
     "text": [
      "[[    0     0     0 ...    48  5886    15]\n",
      " [    0     0     0 ...   123    78 11331]\n",
      " [    0     0     0 ...    93    15   123]\n",
      " ...\n",
      " [    0     0     0 ...    47  1519  3257]\n",
      " [    0     0     0 ...   159  1460  5880]\n",
      " [    0     0     0 ...  2865   898  4696]]\n",
      "[1 1 1 ... 0 0 0]\n"
     ]
    }
   ],
   "source": [
    "print(X_pad)\n",
    "print(y_encoded)"
   ]
  }
 ],
 "metadata": {
  "interpreter": {
   "hash": "b89b5cfaba6639976dc87ff2fec6d58faec662063367e2c229c520fe71072417"
  },
  "kernelspec": {
   "display_name": "Python 3.10.4 64-bit",
   "language": "python",
   "name": "python3"
  },
  "language_info": {
   "codemirror_mode": {
    "name": "ipython",
    "version": 3
   },
   "file_extension": ".py",
   "mimetype": "text/x-python",
   "name": "python",
   "nbconvert_exporter": "python",
   "pygments_lexer": "ipython3",
   "version": "3.10.4"
  },
  "orig_nbformat": 4
 },
 "nbformat": 4,
 "nbformat_minor": 2
}
